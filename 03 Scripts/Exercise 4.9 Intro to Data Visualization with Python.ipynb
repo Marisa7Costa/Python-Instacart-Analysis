{
 "cells": [
  {
   "cell_type": "markdown",
   "id": "86aa4caa",
   "metadata": {},
   "source": [
    "## 4.9 - Intro to Data Visualization with Python"
   ]
  },
  {
   "cell_type": "markdown",
   "id": "151c51b1",
   "metadata": {},
   "source": [
    "### Content List\n",
    "#### 1. Import Libraries\n",
    "#### 2. Import Data\n",
    "#### 3. Bar Charts\n",
    "#### 4. Histograms\n",
    "#### 5. Scatterplot\n",
    "#### 6. Sampling Data"
   ]
  },
  {
   "cell_type": "markdown",
   "id": "5981faef",
   "metadata": {},
   "source": [
    "### 1. Import Libraries"
   ]
  },
  {
   "cell_type": "code",
   "execution_count": 1,
   "id": "55865eb7",
   "metadata": {},
   "outputs": [],
   "source": [
    "#Import Libaries for Data Analysis and Data Visualization\n",
    "import pandas as pd\n",
    "import numpy as np\n",
    "import os\n",
    "import matplotlib.pyplot as plt\n",
    "import seaborn as sns\n",
    "import scipy"
   ]
  },
  {
   "cell_type": "markdown",
   "id": "043c9617",
   "metadata": {},
   "source": [
    "### 2. Import Data"
   ]
  },
  {
   "cell_type": "code",
   "execution_count": 2,
   "id": "d2d9bc8c",
   "metadata": {},
   "outputs": [],
   "source": [
    "#Create folder path\n",
    "path = r'C:\\Users\\Utilizador\\OneDrive\\Documents\\CareerFoundry - Data Analyst\\Data Immersion\\A4\\19-01-2024 Instacart Basket Analysis'"
   ]
  },
  {
   "cell_type": "code",
   "execution_count": 3,
   "id": "0eae0f8f",
   "metadata": {},
   "outputs": [],
   "source": [
    "#Import data exported in task 4.8\n",
    "ords_prods_merge = pd.read_pickle (os.path.join(path, '02 Data', 'Prepared Data', 'ords_prods_aggr.pkl'))"
   ]
  },
  {
   "cell_type": "code",
   "execution_count": 4,
   "id": "4bf79a01",
   "metadata": {},
   "outputs": [
    {
     "data": {
      "text/html": [
       "<div>\n",
       "<style scoped>\n",
       "    .dataframe tbody tr th:only-of-type {\n",
       "        vertical-align: middle;\n",
       "    }\n",
       "\n",
       "    .dataframe tbody tr th {\n",
       "        vertical-align: top;\n",
       "    }\n",
       "\n",
       "    .dataframe thead th {\n",
       "        text-align: right;\n",
       "    }\n",
       "</style>\n",
       "<table border=\"1\" class=\"dataframe\">\n",
       "  <thead>\n",
       "    <tr style=\"text-align: right;\">\n",
       "      <th></th>\n",
       "      <th>order_id</th>\n",
       "      <th>user_id</th>\n",
       "      <th>order_number</th>\n",
       "      <th>orders_day_of_week</th>\n",
       "      <th>order_hour_of_day</th>\n",
       "      <th>days_since_prior_order</th>\n",
       "      <th>is_first_order</th>\n",
       "      <th>product_id</th>\n",
       "      <th>add_to_cart_order</th>\n",
       "      <th>reordered</th>\n",
       "      <th>...</th>\n",
       "      <th>price_range_loc</th>\n",
       "      <th>busiest_day</th>\n",
       "      <th>busiest_days</th>\n",
       "      <th>busiest_period_of_day</th>\n",
       "      <th>max_order</th>\n",
       "      <th>loyalty_flag</th>\n",
       "      <th>avg_order_price</th>\n",
       "      <th>spending_flag</th>\n",
       "      <th>order_behavior</th>\n",
       "      <th>order_frequecy</th>\n",
       "    </tr>\n",
       "  </thead>\n",
       "  <tbody>\n",
       "    <tr>\n",
       "      <th>0</th>\n",
       "      <td>2539329</td>\n",
       "      <td>1</td>\n",
       "      <td>1</td>\n",
       "      <td>2</td>\n",
       "      <td>8</td>\n",
       "      <td>NaN</td>\n",
       "      <td>1</td>\n",
       "      <td>196</td>\n",
       "      <td>1</td>\n",
       "      <td>0</td>\n",
       "      <td>...</td>\n",
       "      <td>Mid-range product</td>\n",
       "      <td>Regularly busy</td>\n",
       "      <td>Regular days</td>\n",
       "      <td>Most orders</td>\n",
       "      <td>10</td>\n",
       "      <td>New customer</td>\n",
       "      <td>6.367797</td>\n",
       "      <td>Low Spender</td>\n",
       "      <td>20.5</td>\n",
       "      <td>Non-frequent customer</td>\n",
       "    </tr>\n",
       "    <tr>\n",
       "      <th>1</th>\n",
       "      <td>2398795</td>\n",
       "      <td>1</td>\n",
       "      <td>2</td>\n",
       "      <td>3</td>\n",
       "      <td>7</td>\n",
       "      <td>15.0</td>\n",
       "      <td>0</td>\n",
       "      <td>196</td>\n",
       "      <td>1</td>\n",
       "      <td>1</td>\n",
       "      <td>...</td>\n",
       "      <td>Mid-range product</td>\n",
       "      <td>Regularly busy</td>\n",
       "      <td>Slowest days</td>\n",
       "      <td>Most orders</td>\n",
       "      <td>10</td>\n",
       "      <td>New customer</td>\n",
       "      <td>6.367797</td>\n",
       "      <td>Low Spender</td>\n",
       "      <td>20.5</td>\n",
       "      <td>Non-frequent customer</td>\n",
       "    </tr>\n",
       "    <tr>\n",
       "      <th>2</th>\n",
       "      <td>473747</td>\n",
       "      <td>1</td>\n",
       "      <td>3</td>\n",
       "      <td>3</td>\n",
       "      <td>12</td>\n",
       "      <td>21.0</td>\n",
       "      <td>0</td>\n",
       "      <td>196</td>\n",
       "      <td>1</td>\n",
       "      <td>1</td>\n",
       "      <td>...</td>\n",
       "      <td>Mid-range product</td>\n",
       "      <td>Regularly busy</td>\n",
       "      <td>Slowest days</td>\n",
       "      <td>Average orders</td>\n",
       "      <td>10</td>\n",
       "      <td>New customer</td>\n",
       "      <td>6.367797</td>\n",
       "      <td>Low Spender</td>\n",
       "      <td>20.5</td>\n",
       "      <td>Non-frequent customer</td>\n",
       "    </tr>\n",
       "    <tr>\n",
       "      <th>3</th>\n",
       "      <td>2254736</td>\n",
       "      <td>1</td>\n",
       "      <td>4</td>\n",
       "      <td>4</td>\n",
       "      <td>7</td>\n",
       "      <td>29.0</td>\n",
       "      <td>0</td>\n",
       "      <td>196</td>\n",
       "      <td>1</td>\n",
       "      <td>1</td>\n",
       "      <td>...</td>\n",
       "      <td>Mid-range product</td>\n",
       "      <td>Least busy</td>\n",
       "      <td>Slowest days</td>\n",
       "      <td>Most orders</td>\n",
       "      <td>10</td>\n",
       "      <td>New customer</td>\n",
       "      <td>6.367797</td>\n",
       "      <td>Low Spender</td>\n",
       "      <td>20.5</td>\n",
       "      <td>Non-frequent customer</td>\n",
       "    </tr>\n",
       "    <tr>\n",
       "      <th>4</th>\n",
       "      <td>431534</td>\n",
       "      <td>1</td>\n",
       "      <td>5</td>\n",
       "      <td>4</td>\n",
       "      <td>15</td>\n",
       "      <td>28.0</td>\n",
       "      <td>0</td>\n",
       "      <td>196</td>\n",
       "      <td>1</td>\n",
       "      <td>1</td>\n",
       "      <td>...</td>\n",
       "      <td>Mid-range product</td>\n",
       "      <td>Least busy</td>\n",
       "      <td>Slowest days</td>\n",
       "      <td>Average orders</td>\n",
       "      <td>10</td>\n",
       "      <td>New customer</td>\n",
       "      <td>6.367797</td>\n",
       "      <td>Low Spender</td>\n",
       "      <td>20.5</td>\n",
       "      <td>Non-frequent customer</td>\n",
       "    </tr>\n",
       "  </tbody>\n",
       "</table>\n",
       "<p>5 rows × 25 columns</p>\n",
       "</div>"
      ],
      "text/plain": [
       "   order_id  user_id  order_number  orders_day_of_week  order_hour_of_day  \\\n",
       "0   2539329        1             1                   2                  8   \n",
       "1   2398795        1             2                   3                  7   \n",
       "2    473747        1             3                   3                 12   \n",
       "3   2254736        1             4                   4                  7   \n",
       "4    431534        1             5                   4                 15   \n",
       "\n",
       "   days_since_prior_order  is_first_order  product_id  add_to_cart_order  \\\n",
       "0                     NaN               1         196                  1   \n",
       "1                    15.0               0         196                  1   \n",
       "2                    21.0               0         196                  1   \n",
       "3                    29.0               0         196                  1   \n",
       "4                    28.0               0         196                  1   \n",
       "\n",
       "   reordered  ...    price_range_loc     busiest_day  busiest_days  \\\n",
       "0          0  ...  Mid-range product  Regularly busy  Regular days   \n",
       "1          1  ...  Mid-range product  Regularly busy  Slowest days   \n",
       "2          1  ...  Mid-range product  Regularly busy  Slowest days   \n",
       "3          1  ...  Mid-range product      Least busy  Slowest days   \n",
       "4          1  ...  Mid-range product      Least busy  Slowest days   \n",
       "\n",
       "   busiest_period_of_day max_order  loyalty_flag avg_order_price  \\\n",
       "0            Most orders        10  New customer        6.367797   \n",
       "1            Most orders        10  New customer        6.367797   \n",
       "2         Average orders        10  New customer        6.367797   \n",
       "3            Most orders        10  New customer        6.367797   \n",
       "4         Average orders        10  New customer        6.367797   \n",
       "\n",
       "  spending_flag order_behavior         order_frequecy  \n",
       "0   Low Spender           20.5  Non-frequent customer  \n",
       "1   Low Spender           20.5  Non-frequent customer  \n",
       "2   Low Spender           20.5  Non-frequent customer  \n",
       "3   Low Spender           20.5  Non-frequent customer  \n",
       "4   Low Spender           20.5  Non-frequent customer  \n",
       "\n",
       "[5 rows x 25 columns]"
      ]
     },
     "execution_count": 4,
     "metadata": {},
     "output_type": "execute_result"
    }
   ],
   "source": [
    "#Check output\n",
    "ords_prods_merge.head()"
   ]
  },
  {
   "cell_type": "code",
   "execution_count": 5,
   "id": "86a0faa8",
   "metadata": {},
   "outputs": [
    {
     "data": {
      "text/plain": [
       "(32404859, 25)"
      ]
     },
     "execution_count": 5,
     "metadata": {},
     "output_type": "execute_result"
    }
   ],
   "source": [
    "#check shape\n",
    "ords_prods_merge.shape"
   ]
  },
  {
   "cell_type": "markdown",
   "id": "5982b546",
   "metadata": {},
   "source": [
    "### 3. Bar Charts"
   ]
  },
  {
   "cell_type": "code",
   "execution_count": 6,
   "id": "e632d79f",
   "metadata": {},
   "outputs": [
    {
     "data": {
      "text/plain": [
       "<Axes: xlabel='orders_day_of_week'>"
      ]
     },
     "execution_count": 6,
     "metadata": {},
     "output_type": "execute_result"
    },
    {
     "data": {
      "image/png": "[encoded data removed]",
      "text/plain": [
       "<Figure size 640x480 with 1 Axes>"
      ]
     },
     "metadata": {},
     "output_type": "display_data"
    }
   ],
   "source": [
    "#Create a bar chart\n",
    "ords_prods_merge['orders_day_of_week'].value_counts().plot.bar()"
   ]
  },
  {
   "cell_type": "code",
   "execution_count": 7,
   "id": "efba1d47",
   "metadata": {},
   "outputs": [
    {
     "data": {
      "image/png": "[encoded data removed]",
      "text/plain": [
       "<Figure size 640x480 with 1 Axes>"
      ]
     },
     "metadata": {},
     "output_type": "display_data"
    }
   ],
   "source": [
    "#Add colour to the bar chart\n",
    "bar=ords_prods_merge['orders_day_of_week'].value_counts().plot.bar(color =['purple','red','pink','orange','yellow','green','blue'])"
   ]
  },
  {
   "cell_type": "code",
   "execution_count": 8,
   "id": "e69249f3",
   "metadata": {
    "scrolled": true
   },
   "outputs": [
    {
     "data": {
      "image/png": "[encoded data removed]",
      "text/plain": [
       "<Figure size 640x480 with 1 Axes>"
      ]
     },
     "execution_count": 8,
     "metadata": {},
     "output_type": "execute_result"
    }
   ],
   "source": [
    "bar.figure"
   ]
  },
  {
   "cell_type": "code",
   "execution_count": 9,
   "id": "f0df627b",
   "metadata": {},
   "outputs": [],
   "source": [
    "#Export Bar chart\n",
    "bar.figure.savefig(os.path.join(path, '04 Analysis','Visualizations', 'bar_orders_dow.png'))"
   ]
  },
  {
   "cell_type": "markdown",
   "id": "a9fb67bd",
   "metadata": {},
   "source": [
    "### 4. Histograms"
   ]
  },
  {
   "cell_type": "code",
   "execution_count": 10,
   "id": "c7b80f83",
   "metadata": {},
   "outputs": [
    {
     "data": {
      "image/png": "[encoded data removed]",
      "text/plain": [
       "<Figure size 640x480 with 1 Axes>"
      ]
     },
     "metadata": {},
     "output_type": "display_data"
    }
   ],
   "source": [
    "#Create a Histogram\n",
    "hist=ords_prods_merge['prices'].plot.hist(bins = 70)"
   ]
  },
  {
   "cell_type": "code",
   "execution_count": 11,
   "id": "06b309a1",
   "metadata": {},
   "outputs": [],
   "source": [
    "#Export Histogram\n",
    "hist.figure.savefig(os.path.join(path, '04 Analysis','Visualizations', 'hist_prices.png'))"
   ]
  },
  {
   "cell_type": "markdown",
   "id": "6d86b518",
   "metadata": {},
   "source": [
    "### 5. Scatterplot"
   ]
  },
  {
   "cell_type": "code",
   "execution_count": 12,
   "id": "3ac01e51",
   "metadata": {},
   "outputs": [
    {
     "data": {
      "image/png": "[encoded data removed]",
      "text/plain": [
       "<Figure size 640x480 with 1 Axes>"
      ]
     },
     "metadata": {},
     "output_type": "display_data"
    }
   ],
   "source": [
    "Scatter = sns.scatterplot(x = 'prices', y = 'prices',data = ords_prods_merge)"
   ]
  },
  {
   "cell_type": "markdown",
   "id": "c35d12bd",
   "metadata": {},
   "source": [
    "### 6. Sampling Data"
   ]
  },
  {
   "cell_type": "code",
   "execution_count": 13,
   "id": "31bd23fa",
   "metadata": {},
   "outputs": [],
   "source": [
    "np.random.seed(4)"
   ]
  },
  {
   "cell_type": "code",
   "execution_count": 14,
   "id": "0b829c7e",
   "metadata": {},
   "outputs": [],
   "source": [
    "#Create a list holding True/False values to the test np.random.rand(len(ords_prods_merge)) <= 0.7\n",
    "dev = np.random.rand(len(ords_prods_merge)) <= 0.7"
   ]
  },
  {
   "cell_type": "code",
   "execution_count": 15,
   "id": "f2e32785",
   "metadata": {},
   "outputs": [
    {
     "data": {
      "text/plain": [
       "array([False,  True, False, ...,  True,  True,  True])"
      ]
     },
     "execution_count": 15,
     "metadata": {},
     "output_type": "execute_result"
    }
   ],
   "source": [
    "dev"
   ]
  },
  {
   "cell_type": "code",
   "execution_count": 16,
   "id": "9cbd1b1d",
   "metadata": {},
   "outputs": [],
   "source": [
    "#Store 70% of the dataframe in the sample big\n",
    "big = ords_prods_merge[dev]"
   ]
  },
  {
   "cell_type": "code",
   "execution_count": 17,
   "id": "4f913eea",
   "metadata": {},
   "outputs": [],
   "source": [
    "#Store 30% of the dataframe in the sample small\n",
    "small = ords_prods_merge[~ dev]"
   ]
  },
  {
   "cell_type": "code",
   "execution_count": 18,
   "id": "10a9cd5c",
   "metadata": {},
   "outputs": [
    {
     "data": {
      "text/plain": [
       "(22683761, 25)"
      ]
     },
     "execution_count": 18,
     "metadata": {},
     "output_type": "execute_result"
    }
   ],
   "source": [
    "big.shape"
   ]
  },
  {
   "cell_type": "code",
   "execution_count": 19,
   "id": "6d99a66a",
   "metadata": {},
   "outputs": [
    {
     "data": {
      "text/plain": [
       "(9721098, 25)"
      ]
     },
     "execution_count": 19,
     "metadata": {},
     "output_type": "execute_result"
    }
   ],
   "source": [
    "small.shape"
   ]
  },
  {
   "cell_type": "code",
   "execution_count": 20,
   "id": "440f84a5",
   "metadata": {},
   "outputs": [],
   "source": [
    "#Create new dataframe of small sample with only the columns needed for the line chart\n",
    "df_2 = small [['orders_day_of_week', 'prices']]"
   ]
  },
  {
   "cell_type": "code",
   "execution_count": 22,
   "id": "9e308b10",
   "metadata": {},
   "outputs": [
    {
     "name": "stderr",
     "output_type": "stream",
     "text": [
      "C:\\Users\\Utilizador\\anaconda3\\Lib\\site-packages\\seaborn\\_oldcore.py:1119: FutureWarning: use_inf_as_na option is deprecated and will be removed in a future version. Convert inf values to NaN before operating instead.\n",
      "  with pd.option_context('mode.use_inf_as_na', True):\n",
      "C:\\Users\\Utilizador\\anaconda3\\Lib\\site-packages\\seaborn\\_oldcore.py:1119: FutureWarning: use_inf_as_na option is deprecated and will be removed in a future version. Convert inf values to NaN before operating instead.\n",
      "  with pd.option_context('mode.use_inf_as_na', True):\n"
     ]
    },
    {
     "data": {
      "image/png": "[encoded data removed]",
      "text/plain": [
       "<Figure size 640x480 with 1 Axes>"
      ]
     },
     "metadata": {},
     "output_type": "display_data"
    }
   ],
   "source": [
    "#Create line chart displaying orders_day_of_week and prices\n",
    "line = sns.lineplot(data =df_2, x = 'orders_day_of_week', y ='prices')"
   ]
  },
  {
   "cell_type": "code",
   "execution_count": 24,
   "id": "ed96845b",
   "metadata": {},
   "outputs": [],
   "source": [
    "#Export Line Chart\n",
    "line.figure.savefig(os.path.join(path, '04 Analysis','Visualizations', 'line_chart_prices_dow.png'))"
   ]
  },
  {
   "cell_type": "code",
   "execution_count": null,
   "id": "fb09d0a2",
   "metadata": {},
   "outputs": [],
   "source": []
  }
 ],
 "metadata": {
  "kernelspec": {
   "display_name": "Python 3 (ipykernel)",
   "language": "python",
   "name": "python3"
  },
  "language_info": {
   "codemirror_mode": {
    "name": "ipython",
    "version": 3
   },
   "file_extension": ".py",
   "mimetype": "text/x-python",
   "name": "python",
   "nbconvert_exporter": "python",
   "pygments_lexer": "ipython3",
   "version": "3.11.5"
  }
 },
 "nbformat": 4,
 "nbformat_minor": 5
}

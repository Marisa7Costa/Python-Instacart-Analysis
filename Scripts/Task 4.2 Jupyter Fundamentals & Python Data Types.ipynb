{
 "cells": [
  {
   "cell_type": "markdown",
   "id": "76982797",
   "metadata": {},
   "source": [
    "# Task 4.2 Jupyter Fundamentals & Python Data Types"
   ]
  },
  {
   "cell_type": "markdown",
   "id": "781c824b",
   "metadata": {},
   "source": [
    "### Content List\n",
    "#### 1. Import Libraries\n",
    "#### 2. Data Types"
   ]
  },
  {
   "cell_type": "markdown",
   "id": "1fff2464",
   "metadata": {},
   "source": [
    "## 1. Import Libraries"
   ]
  },
  {
   "cell_type": "code",
   "execution_count": 1,
   "id": "35fe59bd",
   "metadata": {},
   "outputs": [],
   "source": [
    "#Importing libraries"
   ]
  },
  {
   "cell_type": "code",
   "execution_count": 2,
   "id": "b0c67255",
   "metadata": {},
   "outputs": [],
   "source": [
    "import pandas as pd\n",
    "import numpy as np\n",
    "import os"
   ]
  },
  {
   "cell_type": "markdown",
   "id": "9d628f6b",
   "metadata": {},
   "source": [
    "## 2. Data Types"
   ]
  },
  {
   "cell_type": "code",
   "execution_count": 6,
   "id": "d9a46715",
   "metadata": {},
   "outputs": [],
   "source": [
    "# 7. 3 different ways to reach 100 using * & -"
   ]
  },
  {
   "cell_type": "code",
   "execution_count": 3,
   "id": "b22966b3",
   "metadata": {},
   "outputs": [
    {
     "data": {
      "text/plain": [
       "100"
      ]
     },
     "execution_count": 3,
     "metadata": {},
     "output_type": "execute_result"
    }
   ],
   "source": [
    "150 - 50"
   ]
  },
  {
   "cell_type": "code",
   "execution_count": 4,
   "id": "0d5ad7d4",
   "metadata": {},
   "outputs": [
    {
     "data": {
      "text/plain": [
       "100"
      ]
     },
     "execution_count": 4,
     "metadata": {},
     "output_type": "execute_result"
    }
   ],
   "source": [
    "70 + 30"
   ]
  },
  {
   "cell_type": "code",
   "execution_count": 5,
   "id": "d9daee40",
   "metadata": {},
   "outputs": [
    {
     "data": {
      "text/plain": [
       "100"
      ]
     },
     "execution_count": 5,
     "metadata": {},
     "output_type": "execute_result"
    }
   ],
   "source": [
    "200 - 140 + 40"
   ]
  },
  {
   "cell_type": "code",
   "execution_count": 7,
   "id": "86bce945",
   "metadata": {},
   "outputs": [],
   "source": [
    "#8. 2 floating-point variables divided by eachother"
   ]
  },
  {
   "cell_type": "code",
   "execution_count": 8,
   "id": "00cc919d",
   "metadata": {},
   "outputs": [],
   "source": [
    "x = 3.657"
   ]
  },
  {
   "cell_type": "code",
   "execution_count": 1,
   "id": "63841796",
   "metadata": {},
   "outputs": [],
   "source": [
    "y = 0,874"
   ]
  },
  {
   "cell_type": "code",
   "execution_count": 10,
   "id": "607a87a0",
   "metadata": {},
   "outputs": [
    {
     "data": {
      "text/plain": [
       "-0.004184210526315789"
      ]
     },
     "execution_count": 10,
     "metadata": {},
     "output_type": "execute_result"
    }
   ],
   "source": [
    "x/y"
   ]
  },
  {
   "cell_type": "code",
   "execution_count": 11,
   "id": "5fc378db",
   "metadata": {},
   "outputs": [],
   "source": [
    "# Constructing a short word made of separate strings"
   ]
  },
  {
   "cell_type": "code",
   "execution_count": 12,
   "id": "71276bde",
   "metadata": {},
   "outputs": [],
   "source": [
    "a = 'Career'"
   ]
  },
  {
   "cell_type": "code",
   "execution_count": 13,
   "id": "1b300401",
   "metadata": {},
   "outputs": [],
   "source": [
    "b = 'Foundry'"
   ]
  },
  {
   "cell_type": "code",
   "execution_count": 14,
   "id": "1ed77d20",
   "metadata": {},
   "outputs": [
    {
     "data": {
      "text/plain": [
       "'CareerFoundry'"
      ]
     },
     "execution_count": 14,
     "metadata": {},
     "output_type": "execute_result"
    }
   ],
   "source": [
    "a + b"
   ]
  },
  {
   "cell_type": "code",
   "execution_count": 15,
   "id": "35cf4941",
   "metadata": {},
   "outputs": [],
   "source": [
    "# construct 2 short sentences made of separate strings"
   ]
  },
  {
   "cell_type": "code",
   "execution_count": 16,
   "id": "aaef71fe",
   "metadata": {},
   "outputs": [],
   "source": [
    "c = 'Learning at'"
   ]
  },
  {
   "cell_type": "code",
   "execution_count": 17,
   "id": "f95a2bc2",
   "metadata": {},
   "outputs": [],
   "source": [
    "d = ' '"
   ]
  },
  {
   "cell_type": "code",
   "execution_count": 18,
   "id": "ac17fbe0",
   "metadata": {},
   "outputs": [],
   "source": [
    "e = 'couldnt be simplier!'"
   ]
  },
  {
   "cell_type": "code",
   "execution_count": 19,
   "id": "8ea4c891",
   "metadata": {},
   "outputs": [
    {
     "data": {
      "text/plain": [
       "'Learning at CareerFoundry couldnt be simplier!'"
      ]
     },
     "execution_count": 19,
     "metadata": {},
     "output_type": "execute_result"
    }
   ],
   "source": [
    "c + d + a + b + d + e"
   ]
  },
  {
   "cell_type": "code",
   "execution_count": 21,
   "id": "5d6672a4",
   "metadata": {},
   "outputs": [],
   "source": [
    "# Bonus task - command that makes string appear 100 times"
   ]
  },
  {
   "cell_type": "code",
   "execution_count": 20,
   "id": "6eefb112",
   "metadata": {},
   "outputs": [
    {
     "data": {
      "text/plain": [
       "'CFCFCFCFCFCFCFCFCFCFCFCFCFCFCFCFCFCFCFCFCFCFCFCFCFCFCFCFCFCFCFCFCFCFCFCFCFCFCFCFCFCFCFCFCFCFCFCFCFCFCFCFCFCFCFCFCFCFCFCFCFCFCFCFCFCFCFCFCFCFCFCFCFCFCFCFCFCFCFCFCFCFCFCFCFCFCFCFCFCFCFCFCFCFCFCFCFCFCFCF'"
      ]
     },
     "execution_count": 20,
     "metadata": {},
     "output_type": "execute_result"
    }
   ],
   "source": [
    "'CF'*100"
   ]
  }
 ],
 "metadata": {
  "kernelspec": {
   "display_name": "Python 3 (ipykernel)",
   "language": "python",
   "name": "python3"
  },
  "language_info": {
   "codemirror_mode": {
    "name": "ipython",
    "version": 3
   },
   "file_extension": ".py",
   "mimetype": "text/x-python",
   "name": "python",
   "nbconvert_exporter": "python",
   "pygments_lexer": "ipython3",
   "version": "3.11.5"
  }
 },
 "nbformat": 4,
 "nbformat_minor": 5
}
